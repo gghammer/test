{
 "cells": [
  {
   "cell_type": "code",
   "execution_count": 11,
   "metadata": {
    "collapsed": false
   },
   "outputs": [],
   "source": [
    "import requests\n",
    "import base64\n",
    "from bs4 import BeautifulSoup\n",
    "from datetime import datetime\n",
    "import re\n",
    "import time\n",
    "import pandas\n",
    "import sqlite3 as lite\n",
    "\n",
    "payload={}\n",
    "\n",
    "res = requests.post('http://www.tse.com.tw/ch/trading/exchange/BWIBBU/BWIBBU_d.php#')\n",
    "res.encoding = 'big5'\n",
    "soup    = BeautifulSoup(res.text, 'html.parser') \n",
    "for inp in soup.select('input'):\n",
    "    if 'hidden' in inp.get('type'):\n",
    "        payload[inp.get('name')] = base64.b64encode(inp.get('value').encode('utf-8'))    \n",
    "#print(inp)        \n",
    "res2 = requests.post('http://www.tse.com.tw/ch/trading/exchange/BWIBBU/BWIBBU_print.php?language=ch&save=csv',data = payload ,stream = True)\n",
    "from shutil import copyfileobj\n",
    "f = open('twse.csv','wb')\n",
    "copyfileobj (res2.raw,f)\n",
    "f.close()"
   ]
  },
  {
   "cell_type": "code",
   "execution_count": null,
   "metadata": {
    "collapsed": true
   },
   "outputs": [],
   "source": []
  }
 ],
 "metadata": {
  "kernelspec": {
   "display_name": "Python 3",
   "language": "python",
   "name": "python3"
  },
  "language_info": {
   "codemirror_mode": {
    "name": "ipython",
    "version": 3
   },
   "file_extension": ".py",
   "mimetype": "text/x-python",
   "name": "python",
   "nbconvert_exporter": "python",
   "pygments_lexer": "ipython3",
   "version": "3.6.0"
  }
 },
 "nbformat": 4,
 "nbformat_minor": 2
}
